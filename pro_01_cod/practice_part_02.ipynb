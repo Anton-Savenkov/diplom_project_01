{
 "cells": [
  {
   "cell_type": "code",
   "execution_count": 17,
   "id": "initial_id",
   "metadata": {
    "ExecuteTime": {
     "end_time": "2024-09-12T21:10:02.109194Z",
     "start_time": "2024-09-12T21:10:02.000675Z"
    }
   },
   "outputs": [],
   "source": [
    "# Импорт библиотек\n",
    "import numpy as np\n",
    "import pandas as pd\n",
    "import matplotlib.pyplot as plt\n",
    "import seaborn as sns\n",
    "from sklearn.model_selection import train_test_split, GridSearchCV\n",
    "from sklearn.preprocessing import StandardScaler\n",
    "from sklearn.metrics import classification_report, confusion_matrix\n",
    "from sklearn.ensemble import RandomForestClassifier\n",
    "from sklearn.neural_network import MLPClassifier\n",
    "import tensorflow as tf\n",
    "from tensorflow.keras.models import Sequential\n",
    "from tensorflow.keras.layers import Dense, Flatten, Conv2D, MaxPooling2D\n",
    "from tensorflow.keras.utils import to_categorical\n",
    "import os\n",
    "import struct\n",
    "import xgboost as xgb"
   ]
  },
  {
   "cell_type": "code",
   "execution_count": 2,
   "id": "754413210880f73",
   "metadata": {
    "ExecuteTime": {
     "end_time": "2024-09-12T21:10:12.093865Z",
     "start_time": "2024-09-12T21:10:11.832185Z"
    },
    "collapsed": false,
    "jupyter": {
     "outputs_hidden": false
    }
   },
   "outputs": [
    {
     "name": "stdout",
     "output_type": "stream",
     "text": [
      "  InvoiceNo StockCode                          Description  Quantity  \\\n",
      "0    536365    85123A   WHITE HANGING HEART T-LIGHT HOLDER         6   \n",
      "1    536365     71053                  WHITE METAL LANTERN         6   \n",
      "2    536365    84406B       CREAM CUPID HEARTS COAT HANGER         8   \n",
      "3    536365    84029G  KNITTED UNION FLAG HOT WATER BOTTLE         6   \n",
      "4    536365    84029E       RED WOOLLY HOTTIE WHITE HEART.         6   \n",
      "\n",
      "          InvoiceDate  UnitPrice  CustomerID         Country  \n",
      "0 2010-12-01 08:26:00       2.55     17850.0  United Kingdom  \n",
      "1 2010-12-01 08:26:00       3.39     17850.0  United Kingdom  \n",
      "2 2010-12-01 08:26:00       2.75     17850.0  United Kingdom  \n",
      "3 2010-12-01 08:26:00       3.39     17850.0  United Kingdom  \n",
      "4 2010-12-01 08:26:00       3.39     17850.0  United Kingdom  \n"
     ]
    }
   ],
   "source": [
    "# Загрузка и подготовка данных\n",
    "# Online Retail Dataset\n",
    "df = pd.read_excel('data1/Online Retail.xlsx', sheet_name='Online Retail')\n",
    "\n",
    "# Просмотр первых строк данных\n",
    "print(df.head())"
   ]
  },
  {
   "cell_type": "code",
   "execution_count": 11,
   "id": "82b651dc-c40e-4e9a-afc1-ca342d9dcfb7",
   "metadata": {
    "ExecuteTime": {
     "end_time": "2024-09-11T22:42:25.330231Z",
     "start_time": "2024-09-11T22:42:24.829128Z"
    }
   },
   "outputs": [
    {
     "name": "stdout",
     "output_type": "stream",
     "text": [
      "x_train shape: (60000, 28, 28)\n",
      "y_train shape: (60000,)\n",
      "x_test shape: (10000, 28, 28)\n",
      "y_test shape: (10000,)\n"
     ]
    }
   ],
   "source": [
    "def load_mnist_images(filename):\n",
    "    with open(filename, 'rb') as f:\n",
    "        magic, num_images, rows, cols = struct.unpack('>IIII', f.read(16))\n",
    "        images = np.fromfile(f, dtype=np.uint8).reshape(num_images, rows, cols)\n",
    "    return images\n",
    "\n",
    "def load_mnist_labels(filename):\n",
    "    with open(filename, 'rb') as f:\n",
    "        magic, num_labels = struct.unpack('>II', f.read(8))\n",
    "        labels = np.fromfile(f, dtype=np.uint8)\n",
    "    return labels\n",
    "\n",
    "# Путь к директории с данными\n",
    "data_dir = 'data2'\n",
    "\n",
    "# Загрузка данных\n",
    "x_train = load_mnist_images(os.path.join(data_dir, 'train-images-idx3-ubyte'))\n",
    "y_train = load_mnist_labels(os.path.join(data_dir, 'train-labels-idx1-ubyte'))\n",
    "x_test = load_mnist_images(os.path.join(data_dir, 't10k-images-idx3-ubyte'))\n",
    "y_test = load_mnist_labels(os.path.join(data_dir, 't10k-labels-idx1-ubyte'))\n",
    "\n",
    "# Нормализация данных\n",
    "x_train, x_test = x_train / 255.0, x_test / 255.0\n",
    "\n",
    "# Просмотр размеров данных\n",
    "print(f\"x_train shape: {x_train.shape}\")\n",
    "print(f\"y_train shape: {y_train.shape}\")\n",
    "print(f\"x_test shape: {x_test.shape}\")\n",
    "print(f\"y_test shape: {y_test.shape}\")"
   ]
  },
  {
   "cell_type": "code",
   "execution_count": 12,
   "id": "65981342-9fcf-48cf-b3f5-6f92333cc6d2",
   "metadata": {},
   "outputs": [],
   "source": [
    "# Создание модели\n",
    "model_cnn = Sequential([\n",
    "    Conv2D(32, (3, 3), activation='relu', input_shape=(28, 28, 1)),\n",
    "    MaxPooling2D((2, 2)),\n",
    "    Flatten(),\n",
    "    Dense(128, activation='relu'),\n",
    "    Dense(10, activation='softmax')\n",
    "])\n",
    "\n",
    "model_cnn.compile(optimizer='adam',\n",
    "                  loss='sparse_categorical_crossentropy',\n",
    "                  metrics=['accuracy'])\n"
   ]
  },
  {
   "cell_type": "code",
   "execution_count": 13,
   "id": "7a2724a2-7152-4199-a5bf-f412c1bc5600",
   "metadata": {},
   "outputs": [
    {
     "name": "stdout",
     "output_type": "stream",
     "text": [
      "Epoch 1/5\n",
      "\u001b[1m1688/1688\u001b[0m \u001b[32m━━━━━━━━━━━━━━━━━━━━\u001b[0m\u001b[37m\u001b[0m \u001b[1m18s\u001b[0m 10ms/step - accuracy: 0.8060 - loss: 0.5442 - val_accuracy: 0.8973 - val_loss: 0.2886\n",
      "Epoch 2/5\n",
      "\u001b[1m1688/1688\u001b[0m \u001b[32m━━━━━━━━━━━━━━━━━━━━\u001b[0m\u001b[37m\u001b[0m \u001b[1m26s\u001b[0m 13ms/step - accuracy: 0.9006 - loss: 0.2725 - val_accuracy: 0.9022 - val_loss: 0.2715\n",
      "Epoch 3/5\n",
      "\u001b[1m1688/1688\u001b[0m \u001b[32m━━━━━━━━━━━━━━━━━━━━\u001b[0m\u001b[37m\u001b[0m \u001b[1m24s\u001b[0m 14ms/step - accuracy: 0.9173 - loss: 0.2244 - val_accuracy: 0.9043 - val_loss: 0.2569\n",
      "Epoch 4/5\n",
      "\u001b[1m1688/1688\u001b[0m \u001b[32m━━━━━━━━━━━━━━━━━━━━\u001b[0m\u001b[37m\u001b[0m \u001b[1m19s\u001b[0m 11ms/step - accuracy: 0.9310 - loss: 0.1890 - val_accuracy: 0.9120 - val_loss: 0.2491\n",
      "Epoch 5/5\n",
      "\u001b[1m1688/1688\u001b[0m \u001b[32m━━━━━━━━━━━━━━━━━━━━\u001b[0m\u001b[37m\u001b[0m \u001b[1m22s\u001b[0m 13ms/step - accuracy: 0.9409 - loss: 0.1618 - val_accuracy: 0.9105 - val_loss: 0.2541\n"
     ]
    },
    {
     "data": {
      "text/plain": [
       "<keras.src.callbacks.history.History at 0x14063dc10>"
      ]
     },
     "execution_count": 13,
     "metadata": {},
     "output_type": "execute_result"
    }
   ],
   "source": [
    "# Обучение модели\n",
    "model_cnn.fit(x_train[..., np.newaxis], y_train, epochs=5, validation_split=0.1)"
   ]
  },
  {
   "cell_type": "code",
   "execution_count": 15,
   "id": "2e61a178-84fe-4c22-a050-7c293c1d65c8",
   "metadata": {
    "scrolled": true
   },
   "outputs": [
    {
     "name": "stdout",
     "output_type": "stream",
     "text": [
      "\u001b[1m313/313\u001b[0m \u001b[32m━━━━━━━━━━━━━━━━━━━━\u001b[0m\u001b[37m\u001b[0m \u001b[1m1s\u001b[0m 3ms/step - accuracy: 0.9071 - loss: 0.2668\n",
      "\n",
      "Test accuracy: 0.9078999757766724\n"
     ]
    }
   ],
   "source": [
    "# Оценка модели\n",
    "test_loss, test_acc = model_cnn.evaluate(x_test[..., np.newaxis], y_test)\n",
    "print(f'\\nTest accuracy: {test_acc}')"
   ]
  },
  {
   "cell_type": "markdown",
   "id": "70e4d018-54ec-4369-b62a-692bc7a9da9b",
   "metadata": {},
   "source": [
    "### Подготовка данных датасета Online Retail"
   ]
  },
  {
   "cell_type": "code",
   "execution_count": 4,
   "id": "39382dc7a603ab30",
   "metadata": {
    "ExecuteTime": {
     "end_time": "2024-09-12T21:07:10.529755Z",
     "start_time": "2024-09-12T21:07:10.095097Z"
    },
    "collapsed": false,
    "jupyter": {
     "outputs_hidden": false
    }
   },
   "outputs": [],
   "source": [
    "# Очистка данных\n",
    "df.dropna(subset=['CustomerID'], inplace=True)  # Удаление строк без CustomerID\n",
    "df = df[df['Quantity'] > 0]  # Удаление отрицательных значений Quantity"
   ]
  },
  {
   "cell_type": "code",
   "execution_count": 5,
   "id": "6e01ace90aaa596b",
   "metadata": {
    "collapsed": false,
    "jupyter": {
     "outputs_hidden": false
    }
   },
   "outputs": [],
   "source": [
    "# Агрегация данных по месяцам и клиентам\n",
    "df['InvoiceDate'] = pd.to_datetime(df['InvoiceDate'])\n",
    "df['Month'] = df['InvoiceDate'].dt.to_period('M')\n",
    "# \n",
    "monthly_sales = df.groupby(['Month', 'CustomerID'])['Quantity'].sum().reset_index()"
   ]
  },
  {
   "cell_type": "code",
   "execution_count": 6,
   "id": "44fee2ad-6d46-4e59-8b7c-2df1f8b10b52",
   "metadata": {},
   "outputs": [],
   "source": [
    "# Пример агрегации данных\n",
    "monthly_sales = df.groupby(['Month', 'CustomerID'])['Quantity'].sum().reset_index()"
   ]
  },
  {
   "cell_type": "code",
   "execution_count": 7,
   "id": "76574933-4b2c-4354-abb4-705627609310",
   "metadata": {},
   "outputs": [
    {
     "name": "stdout",
     "output_type": "stream",
     "text": [
      "              precision    recall  f1-score   support\n",
      "\n",
      "           0       1.00      1.00      1.00      1278\n",
      "           1       1.00      1.00      1.00      1333\n",
      "\n",
      "    accuracy                           1.00      2611\n",
      "   macro avg       1.00      1.00      1.00      2611\n",
      "weighted avg       1.00      1.00      1.00      2611\n",
      "\n",
      "[[1278    0]\n",
      " [   0 1333]]\n"
     ]
    }
   ],
   "source": [
    "# Модель для прогнозирования поведения\n",
    "# Создание целевого признака\n",
    "X = monthly_sales[['Quantity']].values\n",
    "y = (monthly_sales['Quantity'] > monthly_sales['Quantity'].median()).astype(int)  # Простая бинарная классификация\n",
    "# Разделение данных на обучающие и тестовые выборки\n",
    "X_train, X_test, y_train, y_test = train_test_split(X, y, test_size=0.2, random_state=42)\n",
    "\n",
    "# Нормализация данных\n",
    "scaler = StandardScaler()\n",
    "X_train = scaler.fit_transform(X_train)\n",
    "X_test = scaler.transform(X_test)\n",
    "\n",
    "# Обучение модели и оценка\n",
    "model_rf = RandomForestClassifier()\n",
    "model_rf.fit(X_train, y_train)\n",
    "y_pred = model_rf.predict(X_test)\n",
    "\n",
    "print(classification_report(y_test, y_pred))\n",
    "print(confusion_matrix(y_test, y_pred))"
   ]
  },
  {
   "cell_type": "code",
   "execution_count": null,
   "id": "f63a50f9-9d92-4e77-b769-592459961ee6",
   "metadata": {},
   "outputs": [],
   "source": []
  }
 ],
 "metadata": {
  "kernelspec": {
   "display_name": "Python 3 (ipykernel)",
   "language": "python",
   "name": "python3"
  },
  "language_info": {
   "codemirror_mode": {
    "name": "ipython",
    "version": 3
   },
   "file_extension": ".py",
   "mimetype": "text/x-python",
   "name": "python",
   "nbconvert_exporter": "python",
   "pygments_lexer": "ipython3",
   "version": "3.9.13"
  }
 },
 "nbformat": 4,
 "nbformat_minor": 5
}
